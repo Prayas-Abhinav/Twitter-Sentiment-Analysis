#%%

# Description : This is a sentiment analysis program that parses the tweets fetched from twitter using python 

#%%

#import the librabries
import tweepy
from textblob import TextBlob
from wordcloud import wordcloud
import pandas as pd
import numpy as np
import re
import matplotlib.pyplot as plt
plt.style.use('fivethirtyeight')



#%%

# Load the data
from google.colab import files
uploaded = files.upload()

#%%

# Get the data
log = pd.read_csv('login.csv')

#%%

# Twitter API credentials
consumerKey = log['key'][0]
consumerSecret = log['key'][1]
accessToken = log['key'][2]
accessTokenSecret = log['key'][3]

#%%

# Create the authentication object
authenticate = tweepy.OAuthHandler(consumerKey, consumerSecret)

#Set the access token and access token secret
authenticate.set_access_token(accessToken, accessTokenSecret)

#Create the API object
api = tweepy.API(authenticate, wait_on_rate_limit= True)

#%%

#Extract 100 tweets from the twitter user

posts = api.user_timeline(screen_name = 'BillGates', count = 100, lang = "en", tweet_mode = "extended")

#print the last 5 tweets from the account
print("Show the 5 recent tweets")

for tweet in posts[0:5]:
  print(tweet.full_text + '\n')

#%%

# Create a dataframe with a column called Tweets
df = pd.DataFrame([tweet.full_text for tweet in posts], columns = ['Tweets'])

#Show the first 5 rows of data
df.head()

#%%

# Clean the text
# Create a funstion to clean the tweets
import re
def cleanTxt(text):
  text = re.sub(r'@[A-Za-z0-9]+', '', text) # remove @ mentions
  text = re.sub(r'#', '', text) #remove the '#' symbols
  text = re.sub(r'RT[\s]+', '', text) # remove RT
  text = re.sub(r'https?:\/\/\S+', '', text) # remove the hyper link

  return text

#cleaning the text
df['Tweets'] = df['Tweets'].apply(cleanTxt)

#show the cleaned text
df

#%%

#Create a function to get the subjectivity

def getSubjectivity(text):
  return TextBlob(text).sentiment.subjectivity

# create a function to get the polarity

def getPolarity(text):
  return TextBlob(text).sentiment.polarity

#Create 2 new columns

df['Subjectivity'] = df['Tweets'].apply(getSubjectivity)
df['Polarity'] = df['Tweets'].apply(getPolarity)

df

#%%

# Plot The Word Cloud
from wordcloud import WordCloud
allWords = ' '.join([twts for twts in df['Tweets']])
wordCloud = WordCloud(width  = 500, height = 300, random_state = 21, max_font_size = 110).generate(allWords)

plt.imshow(wordCloud, interpolation='bilinear')
plt.axis('off')
plt.show()

#%%

# Create a funtion to compute the negative, neutral and positive analysis
def getAnalysis(score):
  if score < 0:
    return 'Negative'
  elif score == 0:
    return 'Neutral'
  else:
    return 'Positive'

df['Analysis'] = df['Polarity'].apply(getAnalysis)    

#show the dataframe

df

#%%

# Print all of the positive tweets
j=1
sortedDF = df.sort_values(by = ['Polarity'], ascending = False)
for i in range(0, sortedDF.shape[0]):
  if (sortedDF['Analysis'][i] == 'Positive'):
    print(str(j) + ')  '+ sortedDF['Tweets'][i])
    print()
    j = j+1

sortedDF

#%%

# print the neagative tweets
# Print all of the positive tweets
j=1
sortedDF = df.sort_values(by = ['Polarity'], ascending = False)
for i in range(0, sortedDF.shape[0]):
  if (sortedDF['Analysis'][i] == 'Negative'):
    print(str(j) + ')  '+ sortedDF['Tweets'][i])
    print()
    j = j+1

sortedDF

#%%

# Plot the polarity and subjectivity

plt.figure(figsize = (8,6))
for i in range(0, df.shape[0]):
  plt.scatter(df['Polarity'][i], df['Subjectivity'][i], color = 'Blue')

plt.title('Sentiment Analysis')
plt.xlabel('Polarity')
plt.ylabel('Subjectivity')
plt.show()

#%%

# Get the percentage of positive tweets

ptweets = df[df['Analysis']=='Positive']
ptweets = ptweets['Tweets']

round((ptweets.shape[0]/df.shape[0])*100, 1)

#%%

# Get the percentage of posnegativeitive tweets

ptweets = df[df['Analysis']=='Negative']
ptweets = ptweets['Tweets']

round((ptweets.shape[0]/df.shape[0])*100, 1)

#%%

# Show the value counts 
 
df['Analysis'].value_counts()

plt.title('Sentiment Analysis')
plt.xlabel('Sentiment')
plt.ylabel('Counts')
df['Analysis'].value_counts().plot(kind = 'bar')
plt.show()



#%%


