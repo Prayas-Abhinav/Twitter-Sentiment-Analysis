{
  "nbformat": 4,
  "nbformat_minor": 0,
  "metadata": {
    "colab": {
      "name": "Twitter_Sentiment_Analysis.ipynb",
      "provenance": [],
      "collapsed_sections": []
    },
    "kernelspec": {
      "display_name": "Python 3",
      "name": "python3"
    },
    "language_info": {
      "name": "python"
    }
  },
  "cells": [
    {
      "cell_type": "code",
      "metadata": {
        "id": "06zwuvf5tNxV"
      },
      "source": [
        "# Description : This is a sentiment analysis program that parses the tweets fetched from twitter using python "
      ],
      "execution_count": null,
      "outputs": []
    },
    {
      "cell_type": "code",
      "metadata": {
        "id": "-Sv4Xhovtjzf"
      },
      "source": [
        "#import the librabries\n",
        "import tweepy\n",
        "from textblob import TextBlob\n",
        "from wordcloud import wordcloud\n",
        "import pandas as pd\n",
        "import numpy as np\n",
        "import re\n",
        "import matplotlib.pyplot as plt\n",
        "plt.style.use('fivethirtyeight')\n",
        "\n"
      ],
      "execution_count": 1,
      "outputs": []
    },
    {
      "cell_type": "code",
      "metadata": {
        "colab": {
          "resources": {
            "http://localhost:8080/nbextensions/google.colab/files.js": {
              "data": "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",
              "ok": true,
              "headers": [
                [
                  "content-type",
                  "application/javascript"
                ]
              ],
              "status": 200,
              "status_text": ""
            }
          },
          "base_uri": "https://localhost:8080/",
          "height": 73
        },
        "id": "DR-woC-wtiDT",
        "outputId": "a811fd07-f464-4671-a7be-b47cec461ecd"
      },
      "source": [
        "# Load the data\n",
        "from google.colab import files\n",
        "uploaded = files.upload()"
      ],
      "execution_count": 3,
      "outputs": [
        {
          "output_type": "display_data",
          "data": {
            "text/html": [
              "\n",
              "     <input type=\"file\" id=\"files-f6b29fee-9b48-4673-8b4b-3c59dff08332\" name=\"files[]\" multiple disabled\n",
              "        style=\"border:none\" />\n",
              "     <output id=\"result-f6b29fee-9b48-4673-8b4b-3c59dff08332\">\n",
              "      Upload widget is only available when the cell has been executed in the\n",
              "      current browser session. Please rerun this cell to enable.\n",
              "      </output>\n",
              "      <script src=\"/nbextensions/google.colab/files.js\"></script> "
            ],
            "text/plain": [
              "<IPython.core.display.HTML object>"
            ]
          },
          "metadata": {}
        },
        {
          "output_type": "stream",
          "name": "stdout",
          "text": [
            "Saving login.csv to login.csv\n"
          ]
        }
      ]
    },
    {
      "cell_type": "code",
      "metadata": {
        "id": "k1puzG2aweV1"
      },
      "source": [
        "# Get the data\n",
        "log = pd.read_csv('login.csv')"
      ],
      "execution_count": 4,
      "outputs": []
    },
    {
      "cell_type": "code",
      "metadata": {
        "id": "dlW83MsWOkZd"
      },
      "source": [
        "# Twitter API credentials\n",
        "consumerKey = log['key'][0]\n",
        "consumerSecret = log['key'][1]\n",
        "accessToken = log['key'][2]\n",
        "accessTokenSecret = log['key'][3]"
      ],
      "execution_count": 5,
      "outputs": []
    },
    {
      "cell_type": "code",
      "metadata": {
        "id": "k2OvVm5zQdKA"
      },
      "source": [
        "# Create the authentication object\n",
        "authenticate = tweepy.OAuthHandler(consumerKey, consumerSecret)\n",
        "\n",
        "#Set the access token and access token secret\n",
        "authenticate.set_access_token(accessToken, accessTokenSecret)\n",
        "\n",
        "#Create the API object\n",
        "api = tweepy.API(authenticate, wait_on_rate_limit= True)"
      ],
      "execution_count": 6,
      "outputs": []
    },
    {
      "cell_type": "code",
      "metadata": {
        "colab": {
          "base_uri": "https://localhost:8080/"
        },
        "id": "HpO6iopgRFsU",
        "outputId": "d1b0c036-a157-4774-e55d-88952059197b"
      },
      "source": [
        "#Extract 100 tweets from the twitter user\n",
        "\n",
        "posts = api.user_timeline(screen_name = 'BillGates', count = 100, lang = \"en\", tweet_mode = \"extended\")\n",
        "\n",
        "#print the last 5 tweets from the account\n",
        "print(\"Show the 5 recent tweets\")\n",
        "\n",
        "for tweet in posts[0:5]:\n",
        "  print(tweet.full_text + '\\n')"
      ],
      "execution_count": 7,
      "outputs": [
        {
          "output_type": "stream",
          "name": "stdout",
          "text": [
            "Show the 5 recent tweets\n",
            "No one person can solve climate change on their own. However, if we make breakthroughs in zero-carbon innovations, we can avoid a climate disaster together. Thanks to @Kurz_Gesagt for creating this informative video. https://t.co/aUdXfnpmnL\n",
            "\n",
            "Happy Birthday, President Carter. You set a great example for all of us, and I am always inspired by your amazing work. https://t.co/fOQjA5Of0R\n",
            "\n",
            "The College @AdvisingCorps is helping students navigate the challenges of continuing their education after high school. https://t.co/JoWpuUCUwe\n",
            "\n",
            "Girin Beeharry was an extraordinary leader and good friend. I’m saddened by his death and inspired by his work to improve lives in India and around the world. https://t.co/8qCmPFtO8G\n",
            "\n",
            "I’m excited about the launch of @CipherClimate by Breakthrough Energy. The first issue includes an important discussion with U.S. Energy Secretary @SecGranholm and new data showing record amounts of cleantech investment. https://t.co/70lVFUWEQ2\n",
            "\n"
          ]
        }
      ]
    },
    {
      "cell_type": "code",
      "metadata": {
        "colab": {
          "base_uri": "https://localhost:8080/",
          "height": 203
        },
        "id": "GDdE5-P1Ryez",
        "outputId": "f9b921ef-276e-4327-8f50-f1f1c9d90cf2"
      },
      "source": [
        "# Create a dataframe with a column called Tweets\n",
        "df = pd.DataFrame([tweet.full_text for tweet in posts], columns = ['Tweets'])\n",
        "\n",
        "#Show the first 5 rows of data\n",
        "df.head()"
      ],
      "execution_count": 8,
      "outputs": [
        {
          "output_type": "execute_result",
          "data": {
            "text/html": [
              "<div>\n",
              "<style scoped>\n",
              "    .dataframe tbody tr th:only-of-type {\n",
              "        vertical-align: middle;\n",
              "    }\n",
              "\n",
              "    .dataframe tbody tr th {\n",
              "        vertical-align: top;\n",
              "    }\n",
              "\n",
              "    .dataframe thead th {\n",
              "        text-align: right;\n",
              "    }\n",
              "</style>\n",
              "<table border=\"1\" class=\"dataframe\">\n",
              "  <thead>\n",
              "    <tr style=\"text-align: right;\">\n",
              "      <th></th>\n",
              "      <th>Tweets</th>\n",
              "    </tr>\n",
              "  </thead>\n",
              "  <tbody>\n",
              "    <tr>\n",
              "      <th>0</th>\n",
              "      <td>No one person can solve climate change on thei...</td>\n",
              "    </tr>\n",
              "    <tr>\n",
              "      <th>1</th>\n",
              "      <td>Happy Birthday, President Carter. You set a gr...</td>\n",
              "    </tr>\n",
              "    <tr>\n",
              "      <th>2</th>\n",
              "      <td>The College @AdvisingCorps is helping students...</td>\n",
              "    </tr>\n",
              "    <tr>\n",
              "      <th>3</th>\n",
              "      <td>Girin Beeharry was an extraordinary leader and...</td>\n",
              "    </tr>\n",
              "    <tr>\n",
              "      <th>4</th>\n",
              "      <td>I’m excited about the launch of @CipherClimate...</td>\n",
              "    </tr>\n",
              "  </tbody>\n",
              "</table>\n",
              "</div>"
            ],
            "text/plain": [
              "                                              Tweets\n",
              "0  No one person can solve climate change on thei...\n",
              "1  Happy Birthday, President Carter. You set a gr...\n",
              "2  The College @AdvisingCorps is helping students...\n",
              "3  Girin Beeharry was an extraordinary leader and...\n",
              "4  I’m excited about the launch of @CipherClimate..."
            ]
          },
          "metadata": {},
          "execution_count": 8
        }
      ]
    },
    {
      "cell_type": "code",
      "metadata": {
        "colab": {
          "base_uri": "https://localhost:8080/",
          "height": 417
        },
        "id": "tYiF24cDS15V",
        "outputId": "03c94881-89b4-4a1c-b80e-5e86aa4f2b42"
      },
      "source": [
        "# Clean the text\n",
        "# Create a funstion to clean the tweets\n",
        "import re\n",
        "def cleanTxt(text):\n",
        "  text = re.sub(r'@[A-Za-z0-9]+', '', text) # remove @ mentions\n",
        "  text = re.sub(r'#', '', text) #remove the '#' symbols\n",
        "  text = re.sub(r'RT[\\s]+', '', text) # remove RT\n",
        "  text = re.sub(r'https?:\\/\\/\\S+', '', text) # remove the hyper link\n",
        "\n",
        "  return text\n",
        "\n",
        "#cleaning the text\n",
        "df['Tweets'] = df['Tweets'].apply(cleanTxt)\n",
        "\n",
        "#show the cleaned text\n",
        "df"
      ],
      "execution_count": 9,
      "outputs": [
        {
          "output_type": "execute_result",
          "data": {
            "text/html": [
              "<div>\n",
              "<style scoped>\n",
              "    .dataframe tbody tr th:only-of-type {\n",
              "        vertical-align: middle;\n",
              "    }\n",
              "\n",
              "    .dataframe tbody tr th {\n",
              "        vertical-align: top;\n",
              "    }\n",
              "\n",
              "    .dataframe thead th {\n",
              "        text-align: right;\n",
              "    }\n",
              "</style>\n",
              "<table border=\"1\" class=\"dataframe\">\n",
              "  <thead>\n",
              "    <tr style=\"text-align: right;\">\n",
              "      <th></th>\n",
              "      <th>Tweets</th>\n",
              "    </tr>\n",
              "  </thead>\n",
              "  <tbody>\n",
              "    <tr>\n",
              "      <th>0</th>\n",
              "      <td>No one person can solve climate change on thei...</td>\n",
              "    </tr>\n",
              "    <tr>\n",
              "      <th>1</th>\n",
              "      <td>Happy Birthday, President Carter. You set a gr...</td>\n",
              "    </tr>\n",
              "    <tr>\n",
              "      <th>2</th>\n",
              "      <td>The College  is helping students navigate the ...</td>\n",
              "    </tr>\n",
              "    <tr>\n",
              "      <th>3</th>\n",
              "      <td>Girin Beeharry was an extraordinary leader and...</td>\n",
              "    </tr>\n",
              "    <tr>\n",
              "      <th>4</th>\n",
              "      <td>I’m excited about the launch of  by Breakthrou...</td>\n",
              "    </tr>\n",
              "    <tr>\n",
              "      <th>...</th>\n",
              "      <td>...</td>\n",
              "    </tr>\n",
              "    <tr>\n",
              "      <th>95</th>\n",
              "      <td>Should you pick your nose?\\n\\nYou can read an ...</td>\n",
              "    </tr>\n",
              "    <tr>\n",
              "      <th>96</th>\n",
              "      <td>The journalist  has created a fascinating beat...</td>\n",
              "    </tr>\n",
              "    <tr>\n",
              "      <th>97</th>\n",
              "      <td>The persistence of countless Rotarians gives m...</td>\n",
              "    </tr>\n",
              "    <tr>\n",
              "      <th>98</th>\n",
              "      <td>I'm almost always interested in books about Am...</td>\n",
              "    </tr>\n",
              "    <tr>\n",
              "      <th>99</th>\n",
              "      <td>This book gave me a deeper, more nuanced appre...</td>\n",
              "    </tr>\n",
              "  </tbody>\n",
              "</table>\n",
              "<p>100 rows × 1 columns</p>\n",
              "</div>"
            ],
            "text/plain": [
              "                                               Tweets\n",
              "0   No one person can solve climate change on thei...\n",
              "1   Happy Birthday, President Carter. You set a gr...\n",
              "2   The College  is helping students navigate the ...\n",
              "3   Girin Beeharry was an extraordinary leader and...\n",
              "4   I’m excited about the launch of  by Breakthrou...\n",
              "..                                                ...\n",
              "95  Should you pick your nose?\\n\\nYou can read an ...\n",
              "96  The journalist  has created a fascinating beat...\n",
              "97  The persistence of countless Rotarians gives m...\n",
              "98  I'm almost always interested in books about Am...\n",
              "99  This book gave me a deeper, more nuanced appre...\n",
              "\n",
              "[100 rows x 1 columns]"
            ]
          },
          "metadata": {},
          "execution_count": 9
        }
      ]
    },
    {
      "cell_type": "code",
      "metadata": {
        "colab": {
          "base_uri": "https://localhost:8080/",
          "height": 417
        },
        "id": "9dWptTO4VYp7",
        "outputId": "706b1a5b-b1e3-4ce3-a7a6-7e691b31283b"
      },
      "source": [
        "#Create a function to get the subjectivity\n",
        "\n",
        "def getSubjectivity(text):\n",
        "  return TextBlob(text).sentiment.subjectivity\n",
        "\n",
        "# create a function to get the polarity\n",
        "\n",
        "def getPolarity(text):\n",
        "  return TextBlob(text).sentiment.polarity\n",
        "\n",
        "#Create 2 new columns\n",
        "\n",
        "df['Subjectivity'] = df['Tweets'].apply(getSubjectivity)\n",
        "df['Polarity'] = df['Tweets'].apply(getPolarity)\n",
        "\n",
        "df"
      ],
      "execution_count": 10,
      "outputs": [
        {
          "output_type": "execute_result",
          "data": {
            "text/html": [
              "<div>\n",
              "<style scoped>\n",
              "    .dataframe tbody tr th:only-of-type {\n",
              "        vertical-align: middle;\n",
              "    }\n",
              "\n",
              "    .dataframe tbody tr th {\n",
              "        vertical-align: top;\n",
              "    }\n",
              "\n",
              "    .dataframe thead th {\n",
              "        text-align: right;\n",
              "    }\n",
              "</style>\n",
              "<table border=\"1\" class=\"dataframe\">\n",
              "  <thead>\n",
              "    <tr style=\"text-align: right;\">\n",
              "      <th></th>\n",
              "      <th>Tweets</th>\n",
              "      <th>Subjectivity</th>\n",
              "      <th>Polarity</th>\n",
              "    </tr>\n",
              "  </thead>\n",
              "  <tbody>\n",
              "    <tr>\n",
              "      <th>0</th>\n",
              "      <td>No one person can solve climate change on thei...</td>\n",
              "      <td>0.600000</td>\n",
              "      <td>0.400000</td>\n",
              "    </tr>\n",
              "    <tr>\n",
              "      <th>1</th>\n",
              "      <td>Happy Birthday, President Carter. You set a gr...</td>\n",
              "      <td>0.883333</td>\n",
              "      <td>0.733333</td>\n",
              "    </tr>\n",
              "    <tr>\n",
              "      <th>2</th>\n",
              "      <td>The College  is helping students navigate the ...</td>\n",
              "      <td>0.540000</td>\n",
              "      <td>0.160000</td>\n",
              "    </tr>\n",
              "    <tr>\n",
              "      <th>3</th>\n",
              "      <td>Girin Beeharry was an extraordinary leader and...</td>\n",
              "      <td>0.800000</td>\n",
              "      <td>0.516667</td>\n",
              "    </tr>\n",
              "    <tr>\n",
              "      <th>4</th>\n",
              "      <td>I’m excited about the launch of  by Breakthrou...</td>\n",
              "      <td>0.634470</td>\n",
              "      <td>0.290341</td>\n",
              "    </tr>\n",
              "    <tr>\n",
              "      <th>...</th>\n",
              "      <td>...</td>\n",
              "      <td>...</td>\n",
              "      <td>...</td>\n",
              "    </tr>\n",
              "    <tr>\n",
              "      <th>95</th>\n",
              "      <td>Should you pick your nose?\\n\\nYou can read an ...</td>\n",
              "      <td>0.850000</td>\n",
              "      <td>0.700000</td>\n",
              "    </tr>\n",
              "    <tr>\n",
              "      <th>96</th>\n",
              "      <td>The journalist  has created a fascinating beat...</td>\n",
              "      <td>0.783333</td>\n",
              "      <td>0.633333</td>\n",
              "    </tr>\n",
              "    <tr>\n",
              "      <th>97</th>\n",
              "      <td>The persistence of countless Rotarians gives m...</td>\n",
              "      <td>0.500000</td>\n",
              "      <td>0.000000</td>\n",
              "    </tr>\n",
              "    <tr>\n",
              "      <th>98</th>\n",
              "      <td>I'm almost always interested in books about Am...</td>\n",
              "      <td>0.670000</td>\n",
              "      <td>0.490000</td>\n",
              "    </tr>\n",
              "    <tr>\n",
              "      <th>99</th>\n",
              "      <td>This book gave me a deeper, more nuanced appre...</td>\n",
              "      <td>0.250000</td>\n",
              "      <td>0.250000</td>\n",
              "    </tr>\n",
              "  </tbody>\n",
              "</table>\n",
              "<p>100 rows × 3 columns</p>\n",
              "</div>"
            ],
            "text/plain": [
              "                                               Tweets  Subjectivity  Polarity\n",
              "0   No one person can solve climate change on thei...      0.600000  0.400000\n",
              "1   Happy Birthday, President Carter. You set a gr...      0.883333  0.733333\n",
              "2   The College  is helping students navigate the ...      0.540000  0.160000\n",
              "3   Girin Beeharry was an extraordinary leader and...      0.800000  0.516667\n",
              "4   I’m excited about the launch of  by Breakthrou...      0.634470  0.290341\n",
              "..                                                ...           ...       ...\n",
              "95  Should you pick your nose?\\n\\nYou can read an ...      0.850000  0.700000\n",
              "96  The journalist  has created a fascinating beat...      0.783333  0.633333\n",
              "97  The persistence of countless Rotarians gives m...      0.500000  0.000000\n",
              "98  I'm almost always interested in books about Am...      0.670000  0.490000\n",
              "99  This book gave me a deeper, more nuanced appre...      0.250000  0.250000\n",
              "\n",
              "[100 rows x 3 columns]"
            ]
          },
          "metadata": {},
          "execution_count": 10
        }
      ]
    },
    {
      "cell_type": "code",
      "metadata": {
        "id": "qT3kWvQcWmbY",
        "colab": {
          "base_uri": "https://localhost:8080/",
          "height": 248
        },
        "outputId": "63ec7b15-0ef3-4aa6-eb76-ba10c8b6d7b4"
      },
      "source": [
        "# Plot The Word Cloud\n",
        "from wordcloud import WordCloud\n",
        "allWords = ' '.join([twts for twts in df['Tweets']])\n",
        "wordCloud = WordCloud(width  = 500, height = 300, random_state = 21, max_font_size = 110).generate(allWords)\n",
        "\n",
        "plt.imshow(wordCloud, interpolation='bilinear')\n",
        "plt.axis('off')\n",
        "plt.show()"
      ],
      "execution_count": 19,
      "outputs": [
        {
          "output_type": "display_data",
          "data": {
            "image/png": "[encoded data removed]",
            "text/plain": [
              "<Figure size 432x288 with 1 Axes>"
            ]
          },
          "metadata": {
            "needs_background": "light"
          }
        }
      ]
    },
    {
      "cell_type": "code",
      "metadata": {
        "colab": {
          "base_uri": "https://localhost:8080/",
          "height": 417
        },
        "id": "BnL12yPxNshw",
        "outputId": "0bbfbae8-670c-4279-d78d-de425635f3ab"
      },
      "source": [
        "# Create a funtion to compute the negative, neutral and positive analysis\n",
        "def getAnalysis(score):\n",
        "  if score < 0:\n",
        "    return 'Negative'\n",
        "  elif score == 0:\n",
        "    return 'Neutral'\n",
        "  else:\n",
        "    return 'Positive'\n",
        "\n",
        "df['Analysis'] = df['Polarity'].apply(getAnalysis)    \n",
        "\n",
        "#show the dataframe\n",
        "\n",
        "df"
      ],
      "execution_count": 20,
      "outputs": [
        {
          "output_type": "execute_result",
          "data": {
            "text/html": [
              "<div>\n",
              "<style scoped>\n",
              "    .dataframe tbody tr th:only-of-type {\n",
              "        vertical-align: middle;\n",
              "    }\n",
              "\n",
              "    .dataframe tbody tr th {\n",
              "        vertical-align: top;\n",
              "    }\n",
              "\n",
              "    .dataframe thead th {\n",
              "        text-align: right;\n",
              "    }\n",
              "</style>\n",
              "<table border=\"1\" class=\"dataframe\">\n",
              "  <thead>\n",
              "    <tr style=\"text-align: right;\">\n",
              "      <th></th>\n",
              "      <th>Tweets</th>\n",
              "      <th>Subjectivity</th>\n",
              "      <th>Polarity</th>\n",
              "      <th>Analysis</th>\n",
              "    </tr>\n",
              "  </thead>\n",
              "  <tbody>\n",
              "    <tr>\n",
              "      <th>0</th>\n",
              "      <td>No one person can solve climate change on thei...</td>\n",
              "      <td>0.600000</td>\n",
              "      <td>0.400000</td>\n",
              "      <td>Positive</td>\n",
              "    </tr>\n",
              "    <tr>\n",
              "      <th>1</th>\n",
              "      <td>Happy Birthday, President Carter. You set a gr...</td>\n",
              "      <td>0.883333</td>\n",
              "      <td>0.733333</td>\n",
              "      <td>Positive</td>\n",
              "    </tr>\n",
              "    <tr>\n",
              "      <th>2</th>\n",
              "      <td>The College  is helping students navigate the ...</td>\n",
              "      <td>0.540000</td>\n",
              "      <td>0.160000</td>\n",
              "      <td>Positive</td>\n",
              "    </tr>\n",
              "    <tr>\n",
              "      <th>3</th>\n",
              "      <td>Girin Beeharry was an extraordinary leader and...</td>\n",
              "      <td>0.800000</td>\n",
              "      <td>0.516667</td>\n",
              "      <td>Positive</td>\n",
              "    </tr>\n",
              "    <tr>\n",
              "      <th>4</th>\n",
              "      <td>I’m excited about the launch of  by Breakthrou...</td>\n",
              "      <td>0.634470</td>\n",
              "      <td>0.290341</td>\n",
              "      <td>Positive</td>\n",
              "    </tr>\n",
              "    <tr>\n",
              "      <th>...</th>\n",
              "      <td>...</td>\n",
              "      <td>...</td>\n",
              "      <td>...</td>\n",
              "      <td>...</td>\n",
              "    </tr>\n",
              "    <tr>\n",
              "      <th>95</th>\n",
              "      <td>Should you pick your nose?\\n\\nYou can read an ...</td>\n",
              "      <td>0.850000</td>\n",
              "      <td>0.700000</td>\n",
              "      <td>Positive</td>\n",
              "    </tr>\n",
              "    <tr>\n",
              "      <th>96</th>\n",
              "      <td>The journalist  has created a fascinating beat...</td>\n",
              "      <td>0.783333</td>\n",
              "      <td>0.633333</td>\n",
              "      <td>Positive</td>\n",
              "    </tr>\n",
              "    <tr>\n",
              "      <th>97</th>\n",
              "      <td>The persistence of countless Rotarians gives m...</td>\n",
              "      <td>0.500000</td>\n",
              "      <td>0.000000</td>\n",
              "      <td>Neutral</td>\n",
              "    </tr>\n",
              "    <tr>\n",
              "      <th>98</th>\n",
              "      <td>I'm almost always interested in books about Am...</td>\n",
              "      <td>0.670000</td>\n",
              "      <td>0.490000</td>\n",
              "      <td>Positive</td>\n",
              "    </tr>\n",
              "    <tr>\n",
              "      <th>99</th>\n",
              "      <td>This book gave me a deeper, more nuanced appre...</td>\n",
              "      <td>0.250000</td>\n",
              "      <td>0.250000</td>\n",
              "      <td>Positive</td>\n",
              "    </tr>\n",
              "  </tbody>\n",
              "</table>\n",
              "<p>100 rows × 4 columns</p>\n",
              "</div>"
            ],
            "text/plain": [
              "                                               Tweets  ...  Analysis\n",
              "0   No one person can solve climate change on thei...  ...  Positive\n",
              "1   Happy Birthday, President Carter. You set a gr...  ...  Positive\n",
              "2   The College  is helping students navigate the ...  ...  Positive\n",
              "3   Girin Beeharry was an extraordinary leader and...  ...  Positive\n",
              "4   I’m excited about the launch of  by Breakthrou...  ...  Positive\n",
              "..                                                ...  ...       ...\n",
              "95  Should you pick your nose?\\n\\nYou can read an ...  ...  Positive\n",
              "96  The journalist  has created a fascinating beat...  ...  Positive\n",
              "97  The persistence of countless Rotarians gives m...  ...   Neutral\n",
              "98  I'm almost always interested in books about Am...  ...  Positive\n",
              "99  This book gave me a deeper, more nuanced appre...  ...  Positive\n",
              "\n",
              "[100 rows x 4 columns]"
            ]
          },
          "metadata": {},
          "execution_count": 20
        }
      ]
    },
    {
      "cell_type": "code",
      "metadata": {
        "colab": {
          "base_uri": "https://localhost:8080/",
          "height": 1000
        },
        "id": "E8Fd22XCPHit",
        "outputId": "cb622dda-ff3b-4630-be06-0d45f175fbb0"
      },
      "source": [
        "# Print all of the positive tweets\n",
        "j=1\n",
        "sortedDF = df.sort_values(by = ['Polarity'], ascending = False)\n",
        "for i in range(0, sortedDF.shape[0]):\n",
        "  if (sortedDF['Analysis'][i] == 'Positive'):\n",
        "    print(str(j) + ')  '+ sortedDF['Tweets'][i])\n",
        "    print()\n",
        "    j = j+1\n",
        "\n",
        "sortedDF"
      ],
      "execution_count": 26,
      "outputs": [
        {
          "output_type": "stream",
          "name": "stdout",
          "text": [
            "1)  No one person can solve climate change on their own. However, if we make breakthroughs in zero-carbon innovations, we can avoid a climate disaster together. Thanks to _Gesagt for creating this informative video. \n",
            "\n",
            "2)  Happy Birthday, President Carter. You set a great example for all of us, and I am always inspired by your amazing work. \n",
            "\n",
            "3)  The College  is helping students navigate the challenges of continuing their education after high school. \n",
            "\n",
            "4)  Girin Beeharry was an extraordinary leader and good friend. I’m saddened by his death and inspired by his work to improve lives in India and around the world. \n",
            "\n",
            "5)  I’m excited about the launch of  by Breakthrough Energy. The first issue includes an important discussion with U.S. Energy Secretary  and new data showing record amounts of cleantech investment. \n",
            "\n",
            "6)  Congratulations  on this well-deserved recognition. Like you, I’m optimistic that we will be able to bring this pandemic to an end. Your work with the  and many others will also help us to better prepare for future pandemics. \n",
            "\n",
            "7)  Congratulations  on the national launch of Ayushman Bharat Digital Mission. This digital health infrastructure will help ensure equitable, accessible healthcare delivery and accelerate progress on India’s health goals.  _INDIA \n",
            "\n",
            "8)  What if your smart phone could detect Alzheimer’s? 's Diagnostics Accelerator is working to make this a reality: \n",
            "\n",
            "9)  India is a great example of a country that has invested in its capacity. Today 2/3rds of all the world's children receive a vaccine that was made in India: \n",
            "\n",
            "10)  Expanding the geography of vaccine manufacturing to better meet vaccine needs, both for pandemics and routine immunization, is a critical task. \n",
            "\n",
            "11)  Thanks for having me on the show, ! And thanks to the all of the late night hosts for focusing on this critical challenge. I’m optimistic that we can come together to avoid a climate disaster. \n",
            "\n",
            "12)  Thanks for the conversation and for your leadership in helping to end this pandemic and prevent the next one. \n",
            "\n",
            "13)  A global response will help the world end the COVID crisis. I'm glad to see so many leaders coming together at this U.S.-led virtual Global COVID-19 summit, and look forward to their continued efforts to help the world move out of the acute phase of this pandemic. \n",
            "\n",
            "14)  Earlier I shared three actions that leaders could take to help the world out of the pandemic. For those who want to go deeper, the  shares more detail on what’s needed to end this crisis: \n",
            "\n",
            "15)  If we want to stop Alzheimer’s disease, one of the biggest things we need to develop is a reliable, affordable, and accessible diagnostic. Breakthroughs in testing may someday soon let us substantially alter the course of the disease:  WorldAlzheimersDay \n",
            "\n",
            "16)  There are three things that can be done in the coming months to bring an end to the acute phase of the pandemic and set the world on a different timeline in preparation for the next. \n",
            "\n",
            "17)  WorldAlzheimersDay is an inspiring reminder that hope is on the horizon. Brilliant scientists all over the world are working hard to stop Alzheimer’s disease—and they’re making terrific progress. \n",
            "\n",
            "18)  Avoiding a climate disaster will require a new industrial revolution. I'm excited to see  Energy Catalyst announce the first private sector anchor partners who will work together to build the clean industries of the future. \n",
            "\n",
            "19)  As we’ve seen this past year, new variants of a disease can emerge over time. In order to develop new tools to fight the disease, we need to identify those variants quickly. Dr. Senjuti Saha is one expert working to sequence SARS-CoV-2:  \n",
            "\n",
            "20)  But the fact that we can point to positive signs amid a once-in-a-generation global pandemic is extraordinary. With one hand tied behind their backs, countless individuals, organizations, and countries went above and beyond. \n",
            "\n",
            "21)  Of course, the full extent of the pandemic’s impact on the SDGs will take years to fully understand, as more and better data becomes available. And this data doesn’t diminish the very real suffering the pandemic has caused for people everywhere—far from it.\n",
            "\n",
            "22)  Initial projections about the pandemic’s impact on the fight against malaria were dire. But that projection spurred many countries to action to ensure that bed nets were distributed and that testing and antimalarial drugs remained available.\n",
            "\n",
            "23)  Where you live shouldn’t determine whether or not you have access to a Covid-19 vaccine, health supplies, or a diagnostic test:  \n",
            "\n",
            "24)  Even amid the devastation of the COVID-19 pandemic, we’ve seen that progress can continue thanks to work started years earlier. In this year’s Goalkeepers2030 report, we share some of the lessons that have inspired all of us at the . \n",
            "\n",
            "25)  This news is not surprising to many of us who work in global health. But there are things the world can do to help get management of these diseases back on track. I’m eager to share more in the annual Goalkeepers report tomorrow.  Goalkeepers2030\n",
            "\n",
            "26)  The world needs many breakthroughs to get from 51 billion tons of greenhouse gases to zero in order to avoid a climate disaster. It’s encouraging to see this kind of collaboration. \n",
            "\n",
            "27)  I found the book to be valuable on a number of levels and will have more to say about it soon! \n",
            "\n",
            "28)  The first time I met David Sengeh, I was blown away by his intellect, his ambition, and his sense of humor. He has been a remarkable advocate for Sierra Leone, and I’m confident that we’ll be hearing about ’s amazing work for decades to come. \n",
            "\n",
            "29)  Africa's success against wild polio last year is one of the most inspiring stories in global health. I’m optimistic that, with the commitment and collaboration that achieved that goal, countries in the region can beat all forms of the virus and EndPolio \n",
            "\n",
            "30)  None of us would be where we are today without the incredible teachers who helped shape our perspectives. Brooke Brown is an extraordinary teacher who has helped her students adapt to extraordinary times. \n",
            "\n",
            "31)  ._Foundation’s Bio-Hermes Study is the first to compare results of blood and digital biomarker tests with imaging and traditional cognitive tests. This could help identify Alzheimer’s earlier and detect progression of the disease, to help us get closer to a cure. \n",
            "\n",
            "32)  I recently sat down with the extraordinary Brooke Brown, Washington State’s 2021 Teacher of the Year. It was a pleasure to meet with her and take part in one of her favorite lessons:  \n",
            "\n",
            "33)  Happy Birthday, Warren! You’ve been a true friend and an invaluable source of advice over the years, and I’m so lucky to know you. It’s an honor to work at the foundation doing my best to turn your generosity into lives saved and improved. Here’s to many more birthdays! \n",
            "\n",
            "34)  Congratulations, India, on reaching this tremendous milestone. The collective efforts of the government, R&amp;D community, vaccine manufacturers, and millions of health workers have made this feat possible.  _INDIA \n",
            "\n",
            "35)  The COVID-19 pandemic reminds us why eradicating malaria is essential. Many of the building blocks we need to fight malaria and prevent the next pandemic are the same. MosquitoWeek \n",
            "\n",
            "36)  Mosquitoes are the deadliest animal to humans, but  scientists have discovered how to transform one kind of mosquito into a surprisingly powerful ally:  MosquitoWeek🦟 \n",
            "\n",
            "37)  I don’t think any of ’s innovations are ready to bring to market. Luckily, brilliant scientists and engineers around the world have developed hundreds of exciting solutions that will prevent illness and death:  \n",
            "\n",
            "38)  I applaud David Vélez and Mariel Reyes’s pledge to dedicate the majority of their wealth to creating opportunity for the most vulnerable Latin American children and young adults: \n",
            "\n",
            "39)  This collaboration’s impact is made possible through investments in the bipartisan infrastructure bill, which will unleash billions in private capital for clean energy projects throughout the U.S. if passed into law. Thank you  for your partnership.\n",
            "\n",
            "40)  Avoiding a climate disaster will require a new, clean industrial revolution, and we don't have time to wait. Our work together will not only send us on a more viable path to net zero, but it will create long-term jobs in communities across the country.\n",
            "\n",
            "41)  I'm incredibly excited about the new collaboration between  Energy Catalyst and  to accelerate the adoption of next-generation clean technologies and build the net-zero economy: \n",
            "\n",
            "42)  I’m partnering with  to make sure that more teachers have access to everything they need to get ready for the new school year. I’ll give your donation an extra 50% boost today when you give to any classroom project or supply request. \n",
            "\n",
            "43)  I’m optimistic about the work that  is doing to invest in companies, support innovators, advocate for better policies, and lower the cost of climate tech. Join us. \n",
            "\n",
            "44)  Reaching zero will take a complete transformation of how we make and do everything – from the technologies and products we create to our public policies to the way we use markets to accelerate change. We need a new industrial revolution powered by clean technology.\n",
            "\n",
            "45)  Every climate action we take must be toward the goal of reaching zero. That means rapidly deploying the technologies we have today to reduce emissions and investing immediately in the solutions we still need to get the world to zero.\n",
            "\n",
            "46)  Avoiding a disaster will require courage, ambition, and partnership among leaders in every sector around the globe. As the report makes clear, no region will be spared by climate change. It will take all of us to meet this challenge.\n",
            "\n",
            "47)  Today’s United Nations climate report is an urgent call to action for the world: we must reach net-zero emissions by 2050 to avoid a climate disaster. \n",
            "\n",
            "48)  Alzheimer’s and related dementias have impacted far too many families around the world—including my own. New funding from  will help  accelerate data collection and sharing to enable early detection and treatment. \n",
            "\n",
            "49)  Today’s students have the power to create a better future for all people, and teachers are helping them build their framework for understanding the world. Thank you to Bryan Stevenson for joining the  Conference for Social Studies this week. \n",
            "\n",
            "50)  I’m deeply saddened to hear of Tachi’s passing. I loved working with him and I learned a lot from him. His passion for saving lives and making the world a fairer place was inspiring, and he matched it with an incredible intellect. I will miss him. \n",
            "\n",
            "51)  Vaclav Smil’s books are amazing. His latest will give you a framework to think about humanity:  \n",
            "\n",
            "52)  I enjoyed joining educators from around the world at the  Conference for the Social Studies to discuss how their teaching practices have changed over the last year and a half. I’m inspired by their resilience and dedication to their students:  \n",
            "\n",
            "53)  It only took Senegal 15 years to cut childhood death in half. Community health workers and successful vaccination campaigns played a key role in this success. Read more from  and see how lessons from Senegal can be applied elsewhere. \n",
            "\n",
            "54)  The French drank an impressive amount of wine in 1926, but their consumption is now a third of what it was back then. Why? I love how this book forces you to think about the story behind a seemingly niche statistic. \n",
            "\n",
            "55)  My favorite author’s new book might be his best one yet. Each chapter covers one of 71 facts about the world that help you understand how history ties together. I unabashedly recommend it to anyone who loves learning. \n",
            "\n",
            "56)  Our foundation has been working to address this massive problem for 10 years—here’s one of the incredible Reinvent the Toilet designs that could help:  \n",
            "\n",
            "57)  Ever heard a toilet be compared to an espresso machine? That’s how Dr. Shannon Yee describes the toilet he and his team have developed. \n",
            "\n",
            "58)  How much of the world population still lacks access to a toilet that safely removes waste from the home?\n",
            "\n",
            "Find the answer here: \n",
            "\n",
            "59)  : “We are closer than ever to building a world where safe sanitation service is a basic human right enjoyed by everyone,…\n",
            "\n",
            "60)  This map from  shows the progress we’ve made–but also highlights how much work we have left to do. \n",
            "\n",
            "61)  The COVID pandemic is a powerful reminder of the urgent work needed to contain and treat deadly pathogens. I’m optimistic about the progress being made on another crisis: safe sanitation:  \n",
            "\n",
            "62)  You were a good sport, Jimmy. Pro tip...never choose glass “2” in a poop-water challenge:  \n",
            "\n",
            "63)  The Gates Foundation is providing additional, flexible funding to the  for its pandemic response efforts, but more assistance from the global community is urgently needed to fill the gaps. \n",
            "\n",
            "64)  : We take one step closer to a malaria-free world with this exciting new project that seeks to develop an mRNA-based malaria vac…\n",
            "\n",
            "65)  I’ve been rewatching some of my favorite movies. Add your favorites to the list on . \n",
            "\n",
            "66)  Getting an early start on my weekend reading: this article does a good job explaining immunity and what may happen with COVID-19 in the future. \n",
            "\n",
            "67)  During the height of the U.S. polio epidemic, the iron lung was one of the greatest tools used to fight polio. Today, it’s the iron will of the thousands of workers and their supporters who are committed to finishing the job.  endpolio\n",
            "\n",
            "68)  : Let us renew our determination to build a strong, sustainable and inclusive recovery from the pandemic, and to take decisive action…\n",
            "\n",
            "69)  Our foundation joined the polio fight almost 15 years ago. And in all that time, I cannot think of a more important moment than right now. \n",
            "\n",
            "70)  I look forward to working with you and _Commission on all of these important goals. Europe is a critical partner in creating a net-zero future and ensuring a healthy and equitable world for all. \n",
            "\n",
            "71)  Reaching net-zero emissions by 2050 means transforming our entire physical economy and accelerating innovation at an unprecedented pace.  Energy Catalyst will jumpstart this process. \n",
            "\n",
            "72)  This is the greatest opportunity for innovation in human history:  \n",
            "\n",
            "73)  : BE Catalyst is financing the foundation of a clean economy through four critical technologies. In these areas, Catalyst a…\n",
            "\n",
            "74)  These students are doing inspiring work. Their ambition makes me optimistic about the future of health care (and the world). \n",
            "\n",
            "75)  I’m excited about  Energy Catalyst and think it can help make clean-energy innovations more available and affordable for everyone. \n",
            "\n",
            "76)  This expanded commitment to the foundation will accelerate its mission to fight poverty, disease, and inequity around the world. I'm grateful to the foundation's leadership team, employees, and partners for their dedication to making the world healthier and more just. \n",
            "\n",
            "77)  : With nearly six decades in the medical profession, Dr. Louisa Samonsia thought she had seen it all. Then, COVID-19 hit.\n",
            "\n",
            "Learn h…\n",
            "\n",
            "78)  Stopping Alzheimer’s requires more eyes on the problem. ADDI  recently hosted their 1st Data Challenge. I was inspired to see more than 1,200+ people from 65+ countries/regions join the fight. \n",
            "\n",
            "79)  It’s really encouraging to see these results. Dengue fever infects hundreds of millions of people a year and causes debilitating disease. This incredible technique could also be effective at stopping the spread of other viruses like Zika and Chikungunya. \n",
            "\n",
            "80)  This important commitment builds on the 's efforts to support partners working to create a more equal world. \n",
            "\n",
            "81)  I am truly grateful for his wisdom and leadership, and most of all for his enduring friendship. Warren will continue to inspire our foundation as we work to fight poverty and help millions of people live healthier lives. \n",
            "\n",
            "82)  I will always have a deep sense of accountability to Warren, paying close attention to the data to track our progress and identify areas where we can do better. But the value of Warren’s gift goes beyond anything that can be measured.\n",
            "\n",
            "83)  Should you pick your nose?\n",
            "\n",
            "You can read an excerpt from Matt Richtel’s fascinating book about the immune system on my blog to find the answer:  \n",
            "\n",
            "84)  The journalist  has created a fascinating beat for herself covering humanity’s impact on nature and our attempts to control it. Her latest book is a good reminder that we need to watch out for the unforeseen effects of our actions. \n",
            "\n",
            "85)  I'm almost always interested in books about American presidents, and I especially loved A Promised Land. It’s a fascinating look at what it’s like to steer a country through challenging times. \n",
            "\n",
            "86)  This book gave me a deeper, more nuanced appreciation for the system that is at the core of humanity’s fight against COVID-19 and everything our foundation’s Global Health program is trying to do. \n",
            "\n"
          ]
        },
        {
          "output_type": "execute_result",
          "data": {
            "text/html": [
              "<div>\n",
              "<style scoped>\n",
              "    .dataframe tbody tr th:only-of-type {\n",
              "        vertical-align: middle;\n",
              "    }\n",
              "\n",
              "    .dataframe tbody tr th {\n",
              "        vertical-align: top;\n",
              "    }\n",
              "\n",
              "    .dataframe thead th {\n",
              "        text-align: right;\n",
              "    }\n",
              "</style>\n",
              "<table border=\"1\" class=\"dataframe\">\n",
              "  <thead>\n",
              "    <tr style=\"text-align: right;\">\n",
              "      <th></th>\n",
              "      <th>Tweets</th>\n",
              "      <th>Subjectivity</th>\n",
              "      <th>Polarity</th>\n",
              "      <th>Analysis</th>\n",
              "    </tr>\n",
              "  </thead>\n",
              "  <tbody>\n",
              "    <tr>\n",
              "      <th>76</th>\n",
              "      <td>During the height of the U.S. polio epidemic, ...</td>\n",
              "      <td>1.000000</td>\n",
              "      <td>1.000000</td>\n",
              "      <td>Positive</td>\n",
              "    </tr>\n",
              "    <tr>\n",
              "      <th>8</th>\n",
              "      <td>India is a great example of a country that has...</td>\n",
              "      <td>0.750000</td>\n",
              "      <td>0.800000</td>\n",
              "      <td>Positive</td>\n",
              "    </tr>\n",
              "    <tr>\n",
              "      <th>1</th>\n",
              "      <td>Happy Birthday, President Carter. You set a gr...</td>\n",
              "      <td>0.883333</td>\n",
              "      <td>0.733333</td>\n",
              "      <td>Positive</td>\n",
              "    </tr>\n",
              "    <tr>\n",
              "      <th>95</th>\n",
              "      <td>Should you pick your nose?\\n\\nYou can read an ...</td>\n",
              "      <td>0.850000</td>\n",
              "      <td>0.700000</td>\n",
              "      <td>Positive</td>\n",
              "    </tr>\n",
              "    <tr>\n",
              "      <th>69</th>\n",
              "      <td>You were a good sport, Jimmy. Pro tip...never ...</td>\n",
              "      <td>0.600000</td>\n",
              "      <td>0.700000</td>\n",
              "      <td>Positive</td>\n",
              "    </tr>\n",
              "    <tr>\n",
              "      <th>...</th>\n",
              "      <td>...</td>\n",
              "      <td>...</td>\n",
              "      <td>...</td>\n",
              "      <td>...</td>\n",
              "    </tr>\n",
              "    <tr>\n",
              "      <th>39</th>\n",
              "      <td>Investments in malaria programs help build str...</td>\n",
              "      <td>0.500000</td>\n",
              "      <td>0.000000</td>\n",
              "      <td>Neutral</td>\n",
              "    </tr>\n",
              "    <tr>\n",
              "      <th>87</th>\n",
              "      <td>COVID-19 has highlighted how digital tools can...</td>\n",
              "      <td>0.000000</td>\n",
              "      <td>0.000000</td>\n",
              "      <td>Neutral</td>\n",
              "    </tr>\n",
              "    <tr>\n",
              "      <th>13</th>\n",
              "      <td>More than 80% of COVID-19 vaccines have been a...</td>\n",
              "      <td>0.526667</td>\n",
              "      <td>-0.001667</td>\n",
              "      <td>Negative</td>\n",
              "    </tr>\n",
              "    <tr>\n",
              "      <th>72</th>\n",
              "      <td>Over the years, I’ve shared a stage with a jar...</td>\n",
              "      <td>0.400000</td>\n",
              "      <td>-0.066667</td>\n",
              "      <td>Negative</td>\n",
              "    </tr>\n",
              "    <tr>\n",
              "      <th>24</th>\n",
              "      <td>When the pandemic hit, many feared the worst w...</td>\n",
              "      <td>0.625000</td>\n",
              "      <td>-0.208333</td>\n",
              "      <td>Negative</td>\n",
              "    </tr>\n",
              "  </tbody>\n",
              "</table>\n",
              "<p>100 rows × 4 columns</p>\n",
              "</div>"
            ],
            "text/plain": [
              "                                               Tweets  ...  Analysis\n",
              "76  During the height of the U.S. polio epidemic, ...  ...  Positive\n",
              "8   India is a great example of a country that has...  ...  Positive\n",
              "1   Happy Birthday, President Carter. You set a gr...  ...  Positive\n",
              "95  Should you pick your nose?\\n\\nYou can read an ...  ...  Positive\n",
              "69  You were a good sport, Jimmy. Pro tip...never ...  ...  Positive\n",
              "..                                                ...  ...       ...\n",
              "39  Investments in malaria programs help build str...  ...   Neutral\n",
              "87  COVID-19 has highlighted how digital tools can...  ...   Neutral\n",
              "13  More than 80% of COVID-19 vaccines have been a...  ...  Negative\n",
              "72  Over the years, I’ve shared a stage with a jar...  ...  Negative\n",
              "24  When the pandemic hit, many feared the worst w...  ...  Negative\n",
              "\n",
              "[100 rows x 4 columns]"
            ]
          },
          "metadata": {},
          "execution_count": 26
        }
      ]
    },
    {
      "cell_type": "code",
      "metadata": {
        "colab": {
          "base_uri": "https://localhost:8080/",
          "height": 538
        },
        "id": "HVrL2KnDQN0R",
        "outputId": "00244e4d-8860-4e5d-bb24-183420888e2b"
      },
      "source": [
        "# print the neagative tweets\n",
        "# Print all of the positive tweets\n",
        "j=1\n",
        "sortedDF = df.sort_values(by = ['Polarity'], ascending = False)\n",
        "for i in range(0, sortedDF.shape[0]):\n",
        "  if (sortedDF['Analysis'][i] == 'Negative'):\n",
        "    print(str(j) + ')  '+ sortedDF['Tweets'][i])\n",
        "    print()\n",
        "    j = j+1\n",
        "\n",
        "sortedDF"
      ],
      "execution_count": 27,
      "outputs": [
        {
          "output_type": "stream",
          "name": "stdout",
          "text": [
            "1)  More than 80% of COVID-19 vaccines have been administered in high- and upper-middle-income countries while less than 1% have been administered in low-income countries. This is both profoundly unfair and hinders progress towards ending the pandemic:  \n",
            "\n",
            "2)  When the pandemic hit, many feared the worst when it came to maintaining progress on fighting other diseases. But all over the world people stepped up to avert the worst-case scenarios. One example is malaria:  \n",
            "\n",
            "3)  Over the years, I’ve shared a stage with a jar of human feces, smelled pit latrine odor, and drunk water made from poop (and convinced  to drink it too). Was it worth it? You bet. Here’s why: \n",
            "\n"
          ]
        },
        {
          "output_type": "execute_result",
          "data": {
            "text/html": [
              "<div>\n",
              "<style scoped>\n",
              "    .dataframe tbody tr th:only-of-type {\n",
              "        vertical-align: middle;\n",
              "    }\n",
              "\n",
              "    .dataframe tbody tr th {\n",
              "        vertical-align: top;\n",
              "    }\n",
              "\n",
              "    .dataframe thead th {\n",
              "        text-align: right;\n",
              "    }\n",
              "</style>\n",
              "<table border=\"1\" class=\"dataframe\">\n",
              "  <thead>\n",
              "    <tr style=\"text-align: right;\">\n",
              "      <th></th>\n",
              "      <th>Tweets</th>\n",
              "      <th>Subjectivity</th>\n",
              "      <th>Polarity</th>\n",
              "      <th>Analysis</th>\n",
              "    </tr>\n",
              "  </thead>\n",
              "  <tbody>\n",
              "    <tr>\n",
              "      <th>76</th>\n",
              "      <td>During the height of the U.S. polio epidemic, ...</td>\n",
              "      <td>1.000000</td>\n",
              "      <td>1.000000</td>\n",
              "      <td>Positive</td>\n",
              "    </tr>\n",
              "    <tr>\n",
              "      <th>8</th>\n",
              "      <td>India is a great example of a country that has...</td>\n",
              "      <td>0.750000</td>\n",
              "      <td>0.800000</td>\n",
              "      <td>Positive</td>\n",
              "    </tr>\n",
              "    <tr>\n",
              "      <th>1</th>\n",
              "      <td>Happy Birthday, President Carter. You set a gr...</td>\n",
              "      <td>0.883333</td>\n",
              "      <td>0.733333</td>\n",
              "      <td>Positive</td>\n",
              "    </tr>\n",
              "    <tr>\n",
              "      <th>95</th>\n",
              "      <td>Should you pick your nose?\\n\\nYou can read an ...</td>\n",
              "      <td>0.850000</td>\n",
              "      <td>0.700000</td>\n",
              "      <td>Positive</td>\n",
              "    </tr>\n",
              "    <tr>\n",
              "      <th>69</th>\n",
              "      <td>You were a good sport, Jimmy. Pro tip...never ...</td>\n",
              "      <td>0.600000</td>\n",
              "      <td>0.700000</td>\n",
              "      <td>Positive</td>\n",
              "    </tr>\n",
              "    <tr>\n",
              "      <th>...</th>\n",
              "      <td>...</td>\n",
              "      <td>...</td>\n",
              "      <td>...</td>\n",
              "      <td>...</td>\n",
              "    </tr>\n",
              "    <tr>\n",
              "      <th>39</th>\n",
              "      <td>Investments in malaria programs help build str...</td>\n",
              "      <td>0.500000</td>\n",
              "      <td>0.000000</td>\n",
              "      <td>Neutral</td>\n",
              "    </tr>\n",
              "    <tr>\n",
              "      <th>87</th>\n",
              "      <td>COVID-19 has highlighted how digital tools can...</td>\n",
              "      <td>0.000000</td>\n",
              "      <td>0.000000</td>\n",
              "      <td>Neutral</td>\n",
              "    </tr>\n",
              "    <tr>\n",
              "      <th>13</th>\n",
              "      <td>More than 80% of COVID-19 vaccines have been a...</td>\n",
              "      <td>0.526667</td>\n",
              "      <td>-0.001667</td>\n",
              "      <td>Negative</td>\n",
              "    </tr>\n",
              "    <tr>\n",
              "      <th>72</th>\n",
              "      <td>Over the years, I’ve shared a stage with a jar...</td>\n",
              "      <td>0.400000</td>\n",
              "      <td>-0.066667</td>\n",
              "      <td>Negative</td>\n",
              "    </tr>\n",
              "    <tr>\n",
              "      <th>24</th>\n",
              "      <td>When the pandemic hit, many feared the worst w...</td>\n",
              "      <td>0.625000</td>\n",
              "      <td>-0.208333</td>\n",
              "      <td>Negative</td>\n",
              "    </tr>\n",
              "  </tbody>\n",
              "</table>\n",
              "<p>100 rows × 4 columns</p>\n",
              "</div>"
            ],
            "text/plain": [
              "                                               Tweets  ...  Analysis\n",
              "76  During the height of the U.S. polio epidemic, ...  ...  Positive\n",
              "8   India is a great example of a country that has...  ...  Positive\n",
              "1   Happy Birthday, President Carter. You set a gr...  ...  Positive\n",
              "95  Should you pick your nose?\\n\\nYou can read an ...  ...  Positive\n",
              "69  You were a good sport, Jimmy. Pro tip...never ...  ...  Positive\n",
              "..                                                ...  ...       ...\n",
              "39  Investments in malaria programs help build str...  ...   Neutral\n",
              "87  COVID-19 has highlighted how digital tools can...  ...   Neutral\n",
              "13  More than 80% of COVID-19 vaccines have been a...  ...  Negative\n",
              "72  Over the years, I’ve shared a stage with a jar...  ...  Negative\n",
              "24  When the pandemic hit, many feared the worst w...  ...  Negative\n",
              "\n",
              "[100 rows x 4 columns]"
            ]
          },
          "metadata": {},
          "execution_count": 27
        }
      ]
    },
    {
      "cell_type": "code",
      "metadata": {
        "colab": {
          "base_uri": "https://localhost:8080/",
          "height": 405
        },
        "id": "ESrMd7dsR4fu",
        "outputId": "0737b3d4-cfe1-4264-e2e7-6d67e34f2105"
      },
      "source": [
        "# Plot the polarity and subjectivity\n",
        "\n",
        "plt.figure(figsize = (8,6))\n",
        "for i in range(0, df.shape[0]):\n",
        "  plt.scatter(df['Polarity'][i], df['Subjectivity'][i], color = 'Blue')\n",
        "\n",
        "plt.title('Sentiment Analysis')\n",
        "plt.xlabel('Polarity')\n",
        "plt.ylabel('Subjectivity')\n",
        "plt.show()"
      ],
      "execution_count": 29,
      "outputs": [
        {
          "output_type": "display_data",
          "data": {
            "image/png": "[encoded data removed]",
            "text/plain": [
              "<Figure size 576x432 with 1 Axes>"
            ]
          },
          "metadata": {
            "needs_background": "light"
          }
        }
      ]
    },
    {
      "cell_type": "code",
      "metadata": {
        "colab": {
          "base_uri": "https://localhost:8080/"
        },
        "id": "kuXgHnsoS4Ry",
        "outputId": "06db25d9-1d76-4459-cabd-e1b5eb8107fb"
      },
      "source": [
        "# Get the percentage of positive tweets\n",
        "\n",
        "ptweets = df[df['Analysis']=='Positive']\n",
        "ptweets = ptweets['Tweets']\n",
        "\n",
        "round((ptweets.shape[0]/df.shape[0])*100, 1)"
      ],
      "execution_count": 31,
      "outputs": [
        {
          "output_type": "execute_result",
          "data": {
            "text/plain": [
              "86.0"
            ]
          },
          "metadata": {},
          "execution_count": 31
        }
      ]
    },
    {
      "cell_type": "code",
      "metadata": {
        "colab": {
          "base_uri": "https://localhost:8080/"
        },
        "id": "2tumZK6hTbUy",
        "outputId": "1ddffd7f-f8b0-4777-9f0d-460698b1e49f"
      },
      "source": [
        "# Get the percentage of posnegativeitive tweets\n",
        "\n",
        "ptweets = df[df['Analysis']=='Negative']\n",
        "ptweets = ptweets['Tweets']\n",
        "\n",
        "round((ptweets.shape[0]/df.shape[0])*100, 1)"
      ],
      "execution_count": 32,
      "outputs": [
        {
          "output_type": "execute_result",
          "data": {
            "text/plain": [
              "3.0"
            ]
          },
          "metadata": {},
          "execution_count": 32
        }
      ]
    },
    {
      "cell_type": "code",
      "metadata": {
        "colab": {
          "base_uri": "https://localhost:8080/",
          "height": 331
        },
        "id": "mEwX-yJdTuBk",
        "outputId": "3457258b-2930-4145-ee9e-745e91e7295c"
      },
      "source": [
        "# Show the value counts \n",
        " \n",
        "df['Analysis'].value_counts()\n",
        "\n",
        "plt.title('Sentiment Analysis')\n",
        "plt.xlabel('Sentiment')\n",
        "plt.ylabel('Counts')\n",
        "df['Analysis'].value_counts().plot(kind = 'bar')\n",
        "plt.show()\n",
        "\n"
      ],
      "execution_count": 36,
      "outputs": [
        {
          "output_type": "display_data",
          "data": {
            "image/png": "[encoded data removed]",
            "text/plain": [
              "<Figure size 432x288 with 1 Axes>"
            ]
          },
          "metadata": {
            "needs_background": "light"
          }
        }
      ]
    },
    {
      "cell_type": "code",
      "metadata": {
        "id": "3TlvdlF0UMmN"
      },
      "source": [
        ""
      ],
      "execution_count": null,
      "outputs": []
    }
  ]
}